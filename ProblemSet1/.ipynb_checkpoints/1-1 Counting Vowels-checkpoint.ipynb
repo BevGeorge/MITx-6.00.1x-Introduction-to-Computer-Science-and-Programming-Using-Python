{
 "cells": [
  {
   "cell_type": "code",
   "execution_count": null,
   "metadata": {
    "collapsed": true
   },
   "outputs": [],
   "source": [
    "## https://courses.edx.org/courses/course-v1:MITx+6.00.1x_6+2T2015/courseware/Week_2/Basic_Problem_Set_1/\n",
    "## Counting Vowels\n",
    "##\n",
    "## Assume s is a string of lower case characters.\n",
    "##\n",
    "## Write a program that counts up the number of vowels contained in the string s. Valid vowels are: 'a', 'e', 'i', 'o', and 'u'. For example, if s = 'azcbobobegghakl', your program should print:\n",
    "## Number of vowels: 5\n",
    "\n",
    "total = 0\n",
    " \n",
    "for vowel in s:\n",
    "    if vowel in 'aeiou':\n",
    "        total += 1\n",
    "\n",
    "print (\"Number of vowels: \" + str(total))\n"
   ]
  },
  {
   "cell_type": "code",
   "execution_count": null,
   "metadata": {
    "collapsed": true
   },
   "outputs": [],
   "source": []
  },
  {
   "cell_type": "code",
   "execution_count": null,
   "metadata": {
    "collapsed": true
   },
   "outputs": [],
   "source": []
  }
 ],
 "metadata": {
  "kernelspec": {
   "display_name": "Python 2",
   "language": "python",
   "name": "python2"
  },
  "language_info": {
   "codemirror_mode": {
    "name": "ipython",
    "version": 2
   },
   "file_extension": ".py",
   "mimetype": "text/x-python",
   "name": "python",
   "nbconvert_exporter": "python",
   "pygments_lexer": "ipython2",
   "version": "2.7.13"
  }
 },
 "nbformat": 4,
 "nbformat_minor": 2
}
