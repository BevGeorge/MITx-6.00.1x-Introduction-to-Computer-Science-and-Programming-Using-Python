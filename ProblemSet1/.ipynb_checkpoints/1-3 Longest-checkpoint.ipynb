{
 "cells": [
  {
   "cell_type": "code",
   "execution_count": 2,
   "metadata": {
    "collapsed": false
   },
   "outputs": [
    {
     "name": "stdout",
     "output_type": "stream",
     "text": [
      "Longest substring in alphabetical order is: abcdop\n"
     ]
    },
    {
     "ename": "NameError",
     "evalue": "name 's' is not defined",
     "output_type": "error",
     "traceback": [
      "\u001b[0;31m---------------------------------------------------------------------------\u001b[0m",
      "\u001b[0;31mNameError\u001b[0m                                 Traceback (most recent call last)",
      "\u001b[0;32m<ipython-input-2-c4ca3d2fc48a>\u001b[0m in \u001b[0;36m<module>\u001b[0;34m()\u001b[0m\n\u001b[1;32m     71\u001b[0m \u001b[0;34m\u001b[0m\u001b[0m\n\u001b[1;32m     72\u001b[0m \u001b[0;31m# s = 'a'\u001b[0m\u001b[0;34m\u001b[0m\u001b[0;34m\u001b[0m\u001b[0m\n\u001b[0;32m---> 73\u001b[0;31m \u001b[0mmaxNum\u001b[0m\u001b[0;34m(\u001b[0m\u001b[0ms\u001b[0m\u001b[0;34m)\u001b[0m\u001b[0;34m\u001b[0m\u001b[0m\n\u001b[0m\u001b[1;32m     74\u001b[0m \u001b[0;34m\u001b[0m\u001b[0m\n\u001b[1;32m     75\u001b[0m \u001b[0;31m##print maxNumInList(maxNum(s))\u001b[0m\u001b[0;34m\u001b[0m\u001b[0;34m\u001b[0m\u001b[0m\n",
      "\u001b[0;31mNameError\u001b[0m: name 's' is not defined"
     ]
    }
   ],
   "source": [
    "# Alphabetical Substrings\n",
    "# https://courses.edx.org/courses/course-v1:MITx+6.00.1x_6+2T2015/courseware/Week_2/Basic_Problem_Set_1/\n",
    "# Assume s is a string of lower case characters.\n",
    "# Write a program that prints the longest substring of s in which the letters occur in alphabetical order. \n",
    "# For example, if s = 'azcbobobegghakl', then your program should print\n",
    "# Longest substring in alphabetical order is: beggh\n",
    "\n",
    "# In the case of ties, print the first substring. For example, if s = 'abcbcd', then your program should print\n",
    "# Longest substring in alphabetical order is: abc\n",
    "\n",
    "# Solution 1:\n",
    "def find(s):\n",
    "    # return longest substring by printing this string\n",
    "    # from the start to the end index using s[start:start + maxLen]\n",
    "    # compare the temp length with the max length and store the bigger in maxLen\n",
    "    # define variables as start = 0, length = 1, maxLen = 1\n",
    "    # when reaching to the variable maxLen in the first time, it already finish the first round call\n",
    "\n",
    "    start = 0\n",
    "    length = 1\n",
    "    maxLen = 1\n",
    "\n",
    "    for i in range(len(s)-1):\n",
    "        if s[i+1] > s[i]:\n",
    "            length += 1\n",
    "        else:\n",
    "            length = 1\n",
    "        if length > maxLen:\n",
    "            maxLen = length\n",
    "            start = i + 2 - maxLen\n",
    "    return 'Longest substring in alphabetical order is: '+ s[start : start + maxLen]\n",
    "\n",
    "print find('abcabcdopaqrstr')\n",
    "    \n",
    "# Solution 2:\n",
    " # get the largest number in a list\n",
    "def maxNumInList(L):\n",
    "    maxNum = L[0]\n",
    "    for i in L:\n",
    "        if i > maxNum:\n",
    "            maxNum = i\n",
    "    return maxNum\n",
    "    \n",
    "##L = [1,2,3,9,5,6,0]\n",
    "##maxNumInList(L)\n",
    "\n",
    "# get the length of each sequenced string with increasing order\n",
    "# store it in a list\n",
    "def maxNum(s):\n",
    "    count = 1\n",
    "    numlist = []\n",
    "    point = [0]\n",
    "    for i in range(1, len(s)):\n",
    "        if s[i-1] <= s[i]:\n",
    "            count += 1\n",
    "        else:\n",
    "            point.append(i)\n",
    "            numlist.append(count)\n",
    "            count = 1\n",
    "    numlist.append(count)\n",
    "    \n",
    "    longestLen = maxNumInList(numlist) # the length of the longest string\n",
    "    position = numlist.index(longestLen) # the position of the longest string in the max number list\n",
    "    index = point[position] # the start index in the actual string\n",
    "\n",
    "    ss = ''\n",
    "    for i in range(index, index + longestLen): # print out the first longest string\n",
    "        ss += s[i]\n",
    "\n",
    "    print 'Longest substring in alphabetical order is: ' + ss\n",
    "\n",
    "# s = 'a'\n",
    "maxNum(s)\n",
    "\n",
    "##print maxNumInList(maxNum(s))"
   ]
  },
  {
   "cell_type": "code",
   "execution_count": null,
   "metadata": {
    "collapsed": true
   },
   "outputs": [],
   "source": []
  },
  {
   "cell_type": "code",
   "execution_count": null,
   "metadata": {
    "collapsed": true
   },
   "outputs": [],
   "source": []
  }
 ],
 "metadata": {
  "kernelspec": {
   "display_name": "Python 2",
   "language": "python",
   "name": "python2"
  },
  "language_info": {
   "codemirror_mode": {
    "name": "ipython",
    "version": 2
   },
   "file_extension": ".py",
   "mimetype": "text/x-python",
   "name": "python",
   "nbconvert_exporter": "python",
   "pygments_lexer": "ipython2",
   "version": "2.7.13"
  }
 },
 "nbformat": 4,
 "nbformat_minor": 2
}
