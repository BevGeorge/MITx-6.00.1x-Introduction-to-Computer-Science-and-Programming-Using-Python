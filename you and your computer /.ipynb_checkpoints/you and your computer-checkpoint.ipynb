{
 "cells": [
  {
   "cell_type": "code",
   "execution_count": 1,
   "metadata": {
    "collapsed": true
   },
   "outputs": [],
   "source": [
    "def playGame(wordList):\n",
    "    \"\"\"\n",
    "    Allow the user to play an arbitrary number of hands.\n",
    "    1) Asks the user to input 'n' or 'r' or 'e'.\n",
    "        * If the user inputs 'e', immediately exit the game.\n",
    "        * If the user inputs anything that's not 'n', 'r', or 'e', keep asking them again.\n",
    "    2) Asks the user to input a 'u' or a 'c'.\n",
    "        * If the user inputs anything that's not 'c' or 'u', keep asking them again.\n",
    "    3) Switch functionality based on the above choices:\n",
    "        * If the user inputted 'n', play a new (random) hand.\n",
    "        * Else, if the user inputted 'r', play the last hand again.\n",
    "        * If the user inputted 'u', let the user play the game\n",
    "          with the selected hand, using playHand.\n",
    "        * If the user inputted 'c', let the computer play the\n",
    "          game with the selected hand, using compPlayHand.\n",
    "    4) After the computer or user has played the hand, repeat from step 1\n",
    "    wordList: list (string)\n",
    "    \"\"\"\n",
    "\n",
    "    def displayHand2(hand):\n",
    "      displayed = ''\n",
    "      for letter in hand.keys():\n",
    "            for j in range(hand[letter]):\n",
    "                 displayed += letter + ' '\n",
    "      return displayed\n",
    "    hand = False\n",
    "    while True:\n",
    "      ans = raw_input(\"Enter n to deal a new hand, r to replay the last hand, or e to end game: \")\n",
    "      if ans == \"n\":\n",
    "        hand = dealHand(HAND_SIZE)\n",
    "\n",
    "        tester1 = True\n",
    "        while tester1:\n",
    "          ans2 = raw_input(\"Enter u to have yourself play, c to have the computer play: \")\n",
    "          if ans2 == \"u\":\n",
    "            playHand(hand, wordList, HAND_SIZE)\n",
    "            tester1 = False\n",
    "          elif ans2 == \"c\":\n",
    "            compPlayHand(hand, wordList, HAND_SIZE)\n",
    "            tester1 = False\n",
    "          else:\n",
    "            print \"Invalid command.\"\n",
    "      elif ans == \"r\":\n",
    "        if hand:\n",
    "          ans2 = raw_input(\"Enter u to have yourself play, c to have the computer play: \")\n",
    "          if ans2 == \"u\":\n",
    "            playHand(hand, wordList, HAND_SIZE)\n",
    "          elif ans2 == \"c\":\n",
    "\n",
    "            compPlayHand(hand, wordList, HAND_SIZE)\n",
    "          else:\n",
    "            print \"Invalid command.\"\n",
    "        else:\n",
    "          print \"You have not played a hand yet. Please play a new hand first!\"\n",
    "      elif ans == \"e\":\n",
    "        break\n",
    "      else:\n",
    "        print \"Invalid command.\""
   ]
  },
  {
   "cell_type": "code",
   "execution_count": null,
   "metadata": {
    "collapsed": true
   },
   "outputs": [],
   "source": []
  },
  {
   "cell_type": "code",
   "execution_count": null,
   "metadata": {
    "collapsed": true
   },
   "outputs": [],
   "source": []
  },
  {
   "cell_type": "code",
   "execution_count": null,
   "metadata": {
    "collapsed": true
   },
   "outputs": [],
   "source": []
  },
  {
   "cell_type": "code",
   "execution_count": null,
   "metadata": {
    "collapsed": true
   },
   "outputs": [],
   "source": []
  },
  {
   "cell_type": "code",
   "execution_count": null,
   "metadata": {
    "collapsed": true
   },
   "outputs": [],
   "source": []
  },
  {
   "cell_type": "code",
   "execution_count": null,
   "metadata": {
    "collapsed": true
   },
   "outputs": [],
   "source": []
  },
  {
   "cell_type": "code",
   "execution_count": null,
   "metadata": {
    "collapsed": true
   },
   "outputs": [],
   "source": []
  },
  {
   "cell_type": "code",
   "execution_count": null,
   "metadata": {
    "collapsed": true
   },
   "outputs": [],
   "source": []
  }
 ],
 "metadata": {
  "kernelspec": {
   "display_name": "Python 2",
   "language": "python",
   "name": "python2"
  },
  "language_info": {
   "codemirror_mode": {
    "name": "ipython",
    "version": 2
   },
   "file_extension": ".py",
   "mimetype": "text/x-python",
   "name": "python",
   "nbconvert_exporter": "python",
   "pygments_lexer": "ipython2",
   "version": "2.7.13"
  }
 },
 "nbformat": 4,
 "nbformat_minor": 2
}
